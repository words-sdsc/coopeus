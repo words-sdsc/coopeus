{
 "cells": [
  {
   "cell_type": "code",
   "execution_count": 1,
   "metadata": {
    "collapsed": false
   },
   "outputs": [],
   "source": [
    "import json\n",
    "from postgis import Point\n",
    "from postgis.psycopg import register\n",
    "import psycopg2\n",
    "import requests"
   ]
  },
  {
   "cell_type": "code",
   "execution_count": 2,
   "metadata": {
    "collapsed": false
   },
   "outputs": [],
   "source": [
    "r = requests.get('http://data.neonscience.org/api/v0/sites')\n",
    "d = r.json()\n",
    "#print(len(['data']))"
   ]
  },
  {
   "cell_type": "code",
   "execution_count": 3,
   "metadata": {
    "collapsed": false
   },
   "outputs": [],
   "source": [
    "if 'data' in d and len(d['data']) > 0:\n",
    "    connection = psycopg2.connect(\"dbname=geoserver user=etlfires\")  \n",
    "    register(connection)\n",
    "    cursor = connection.cursor()\n",
    "    cursor.execute(\"DELETE FROM {}\".format('neon_sites'))\n",
    "    \n",
    "    for site in d['data']:    \n",
    "        #print(site['siteLongitude'])\n",
    "        cursor.execute(\"\"\"\n",
    "INSERT INTO neon_sites (dataProducts, stateCode, siteType, siteDescription,\n",
    "domainCode, siteCode, siteName, stateName, domainName, geom)\n",
    "VALUES (%s, %s, %s, %s, %s, %s, %s, %s, %s, %s)\"\"\", \n",
    "            [json.dumps(site['dataProducts']), site['stateCode'], site['siteType'], \n",
    "            site['siteDescription'], site['domainCode'], site['siteCode'], \n",
    "            site['siteName'], site['stateName'], site['domainName'], \n",
    "            Point(x=site['siteLongitude'], y=site['siteLatitude'], srid=4326)])\n",
    "        \n",
    "    connection.commit()\n",
    "    connection.close()"
   ]
  },
  {
   "cell_type": "code",
   "execution_count": 4,
   "metadata": {
    "collapsed": false
   },
   "outputs": [],
   "source": [
    "#list(d['data'][0].keys())"
   ]
  },
  {
   "cell_type": "code",
   "execution_count": 5,
   "metadata": {
    "collapsed": false
   },
   "outputs": [],
   "source": [
    "#for i in range(0, len(d['data'])):\n",
    "#    print('{} {} {}'.format(d['data'][i]['d['data'][i]['siteLatitude'], d['data'][i]['siteLongitude']))"
   ]
  },
  {
   "cell_type": "code",
   "execution_count": 6,
   "metadata": {
    "collapsed": false
   },
   "outputs": [],
   "source": [
    "#d['data'][0]"
   ]
  },
  {
   "cell_type": "code",
   "execution_count": null,
   "metadata": {
    "collapsed": true
   },
   "outputs": [],
   "source": []
  }
 ],
 "metadata": {
  "kernelspec": {
   "display_name": "Python 3",
   "language": "python",
   "name": "python3"
  },
  "language_info": {
   "codemirror_mode": {
    "name": "ipython",
    "version": 3
   },
   "file_extension": ".py",
   "mimetype": "text/x-python",
   "name": "python",
   "nbconvert_exporter": "python",
   "pygments_lexer": "ipython3",
   "version": "3.4.3"
  }
 },
 "nbformat": 4,
 "nbformat_minor": 2
}
