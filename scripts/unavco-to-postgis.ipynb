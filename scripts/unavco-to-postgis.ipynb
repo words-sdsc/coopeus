{
 "cells": [
  {
   "cell_type": "code",
   "execution_count": 51,
   "metadata": {
    "collapsed": false
   },
   "outputs": [],
   "source": [
    "import io\n",
    "import json\n",
    "import pandas\n",
    "from postgis import Point\n",
    "from postgis.psycopg import register\n",
    "import psycopg2\n",
    "import requests"
   ]
  },
  {
   "cell_type": "code",
   "execution_count": 52,
   "metadata": {
    "collapsed": false
   },
   "outputs": [],
   "source": [
    "r = requests.get('http://web-services.unavco.org/internalWS/gps/metadata/stationcoordinate/sites/beta?project=PBO&refframe=igs08&verboseheader=true&stddev=false')\n",
    "\n",
    "# set engine to python for regex separator\n",
    "df = pandas.read_csv(io.StringIO(r.text), skiprows=6, header=None, names=['id', 'stationName', 'lat', 'lon',\n",
    "       'elev', 'epoch', 'referenceFrame'], sep='\\s*,\\s*', engine='python')\n",
    "#print(len(['data']))"
   ]
  },
  {
   "cell_type": "code",
   "execution_count": 59,
   "metadata": {
    "collapsed": true
   },
   "outputs": [],
   "source": [
    "r2 = requests.get('http://www.unavco.org/gsacws/gsacapi/site/search?output=site.csv&site.group=PBO+Analysis+Complete&site.sortorder=ascending&limit=99999')\n",
    "df2 = pandas.read_csv(io.StringIO(r2.text), skiprows=1, header=None,\n",
    "  names=['id', 'stationName', 'lat', 'lon', 'elev', 'startTime', 'stopTime'],sep='\\s*,\\s*', engine='python')\n",
    "df2 = df2.drop(['lat', 'lon', 'elev'], axis=1)"
   ]
  },
  {
   "cell_type": "code",
   "execution_count": 60,
   "metadata": {
    "collapsed": false
   },
   "outputs": [
    {
     "name": "stdout",
     "output_type": "stream",
     "text": [
      "Index(['id', 'stationName', 'lat', 'lon', 'elev', 'epoch', 'referenceFrame',\n",
      "       'startTime', 'stopTime'],\n",
      "      dtype='object')\n"
     ]
    }
   ],
   "source": [
    "merged_df = pandas.merge(df, df2, on=['id', 'stationName'])\n",
    "print(merged_df.columns)"
   ]
  },
  {
   "cell_type": "code",
   "execution_count": 66,
   "metadata": {
    "collapsed": false
   },
   "outputs": [],
   "source": [
    "if merged_df.size > 0:\n",
    "    connection = psycopg2.connect(\"dbname=geoserver user=etlfires\")  \n",
    "    register(connection)\n",
    "    cursor = connection.cursor()\n",
    "    cursor.execute(\"DELETE FROM {}\".format('unavco_sites'))\n",
    "\n",
    "    for idx, row in merged_df.iterrows():\n",
    "        #print(site['siteLongitude'])\n",
    "        cursor.execute(\"\"\"\n",
    "INSERT INTO unavco_sites (id, stationName, epoch, referenceFrame, startTime, stopTime, geom)\n",
    "VALUES (%s, %s, %s, %s, %s, %s, %s)\"\"\",\n",
    "            [row['id'], row['stationName'], row['epoch'] + 'Z', row['referenceFrame'],\n",
    "            row['startTime'] + 'Z', row['stopTime'] + 'Z',\n",
    "            Point(x=row['lon'], y=row['lat'], z=row['elev'], srid=4326)])\n",
    "        \n",
    "    connection.commit()\n",
    "    connection.close()"
   ]
  },
  {
   "cell_type": "code",
   "execution_count": null,
   "metadata": {
    "collapsed": false
   },
   "outputs": [],
   "source": [
    "#list(d['data'][0].keys())"
   ]
  },
  {
   "cell_type": "code",
   "execution_count": null,
   "metadata": {
    "collapsed": false
   },
   "outputs": [],
   "source": [
    "#for i in range(0, len(d['data'])):\n",
    "#    print('{} {} {}'.format(d['data'][i]['d['data'][i]['siteLatitude'], d['data'][i]['siteLongitude']))"
   ]
  },
  {
   "cell_type": "code",
   "execution_count": null,
   "metadata": {
    "collapsed": false
   },
   "outputs": [],
   "source": [
    "#d['data'][0]"
   ]
  },
  {
   "cell_type": "code",
   "execution_count": null,
   "metadata": {
    "collapsed": false
   },
   "outputs": [],
   "source": [
    "#type(d)"
   ]
  },
  {
   "cell_type": "code",
   "execution_count": null,
   "metadata": {
    "collapsed": false
   },
   "outputs": [],
   "source": [
    "#df.columns"
   ]
  },
  {
   "cell_type": "code",
   "execution_count": null,
   "metadata": {
    "collapsed": false
   },
   "outputs": [],
   "source": [
    "#for idx, row in df.iterrows():\n",
    "#    print(row['ID'])"
   ]
  },
  {
   "cell_type": "code",
   "execution_count": 46,
   "metadata": {
    "collapsed": false
   },
   "outputs": [],
   "source": []
  },
  {
   "cell_type": "code",
   "execution_count": 47,
   "metadata": {
    "collapsed": false
   },
   "outputs": [
    {
     "name": "stdout",
     "output_type": "stream",
     "text": [
      "Index(['id', 'stationName', 'lat', 'lon', 'elev', 'epoch', 'referenceFrame'], dtype='object')\n",
      "Index(['id', 'stationName', 'start_time', 'stop_time'], dtype='object')\n"
     ]
    }
   ],
   "source": [
    "print(df.columns)\n",
    "print(df2.columns)"
   ]
  },
  {
   "cell_type": "code",
   "execution_count": 64,
   "metadata": {
    "collapsed": false
   },
   "outputs": [
    {
     "name": "stdout",
     "output_type": "stream",
     "text": [
      "      id       stationName        lat         lon     elev  \\\n",
      "13  AB18  Kotzebue__AK2007  66.858361 -162.613508  37.1278   \n",
      "\n",
      "                  epoch referenceFrame  \n",
      "13  2017-10-25T00:03:27          IGS08  \n",
      "      id       stationName            startTime             stopTime\n",
      "17  AB18  Kotzebue__AK2007  2007-03-08T00:00:00  2017-11-20T23:59:45\n"
     ]
    }
   ],
   "source": [
    "print(df[df['id'] == 'AB18'])\n",
    "print(df2[df2['id'] == 'AB18'])"
   ]
  },
  {
   "cell_type": "code",
   "execution_count": 48,
   "metadata": {
    "collapsed": true
   },
   "outputs": [],
   "source": [
    "merged_df = pandas.merge(df, df2, on=['id', 'stationName'])"
   ]
  },
  {
   "cell_type": "code",
   "execution_count": 49,
   "metadata": {
    "collapsed": false
   },
   "outputs": [
    {
     "data": {
      "text/plain": [
       "Index(['id', 'stationName', 'lat', 'lon', 'elev', 'epoch', 'referenceFrame',\n",
       "       'start_time', 'stop_time'],\n",
       "      dtype='object')"
      ]
     },
     "execution_count": 49,
     "metadata": {},
     "output_type": "execute_result"
    }
   ],
   "source": [
    "merged_df.columns"
   ]
  },
  {
   "cell_type": "code",
   "execution_count": 50,
   "metadata": {
    "collapsed": false
   },
   "outputs": [
    {
     "name": "stdout",
     "output_type": "stream",
     "text": [
      "        id       stationName        lat         lon       elev  \\\n",
      "0     AB01  AtkaIslandAK2007  52.209502 -174.204757    25.4878   \n",
      "1     AB02  Nikolski__AK2007  52.970604 -168.854671   192.8047   \n",
      "2     AB04  Savoonga__AK2007  63.656863 -170.567443   136.5619   \n",
      "3     AB06  FalsePass_AK2005  54.885321 -163.423455   500.4354   \n",
      "4     AB07  SandPoint_AK2004  55.349275 -160.476759    89.5786   \n",
      "5     AB08  Mekoryuk__AK2008  60.384830 -166.200857    26.5176   \n",
      "6     AB09  Razorback_AK2007  65.614979 -168.062125   162.0905   \n",
      "7     AB11  Nome_AnvilAK2006  64.564494 -165.373459   349.4506   \n",
      "8     AB12  Platinum__AK2007  58.950793 -161.746263   587.1021   \n",
      "9     AB13  ChignikLgnAK2006  56.307325 -158.503796   487.8254   \n",
      "10    AB14  DillinghamAK2007  59.108164 -159.091532   657.6529   \n",
      "11    AB15  Nyac_Gold_AK2006  61.039751 -159.878362   560.3420   \n",
      "12    AB17  UnalakleetAK2008  63.886358 -160.694732   117.4480   \n",
      "13    AB18  Kotzebue__AK2007  66.858361 -162.613508    37.1278   \n",
      "14    AB21  AdakIAleutAK2006  51.864149 -176.662649    59.4012   \n",
      "15    AB22  IlliamnaHPAK2006  59.899318 -154.698259   199.8450   \n",
      "16    AB25  Tatalina__AK2008  62.929309 -156.023392   961.0553   \n",
      "17    AB27  Kobuk_VallAK2007  67.055884 -156.904890   508.1145   \n",
      "18    AB28  Rainy_PassAK2006  62.093813 -152.814919  1582.7458   \n",
      "19    AB33  Coldfoot__AK2006  67.251011 -150.172546   334.7873   \n",
      "20    AB35  Yakataga__AK2007  60.079067 -142.389877   536.8474   \n",
      "21    AB36  Manley_HotAK2006  65.030397 -150.743986   816.5283   \n",
      "22    AB37  Paxson2___AK2004  62.967322 -145.451883  1136.6567   \n",
      "23    AB39  FortYukon_AK2008  66.559345 -145.212633   147.6868   \n",
      "24    AB41  EagleAirptAK2006  64.777324 -141.158069   285.9614   \n",
      "25    AB42  Akwe_Peak_AK2006  59.340377 -138.898817   773.4968   \n",
      "26    AB43  CapeSpenceAK2007  58.198842 -136.640811    27.1336   \n",
      "27    AB44  SkagwayUSCAK2005  59.528038 -135.228300   304.3534   \n",
      "28    AB45  SagRivrDOTAK2007  68.760493 -148.871153   507.0245   \n",
      "29    AB46  ArcticVilgAK2007  68.120670 -145.567903   647.9004   \n",
      "...    ...               ...        ...         ...        ...   \n",
      "1032  SMEL  SMEL_BRGN_UT1997  39.425643 -112.844930  1422.1550   \n",
      "1033  SOMT  SOMT_SCGN_CS2000  34.319941 -119.064337   464.2580   \n",
      "1034  SPIC  SPIC_BRGN_UT2003  39.306214 -112.127477  1670.4432   \n",
      "1035  SPMS  SPMS_SCGN_CS1998  33.992655 -117.848779   207.0491   \n",
      "1036  SRS1  SRS1_SCGN_CS2000  34.004338 -120.065225    68.2309   \n",
      "1037  TBLP  TBLP_SCGN_CN2001  35.917411 -120.360339   937.5414   \n",
      "1038  TJRN  TJRN_SCGN_CS2000  34.483476 -120.132567   157.1840   \n",
      "1039  TOIY  TOIY_BRGN_NV2003  39.542172 -117.049410  2299.0620   \n",
      "1040  TONO  TONO_BRGN_NV1999  38.097193 -117.184043  2066.0332   \n",
      "1041  TOST  TOST_SCGN_CS1999  34.247957 -118.836669   274.3762   \n",
      "1042  TPW2  TPW2_PNGA_OR2000  46.207372 -123.768364   -14.9407   \n",
      "1043  TRND  TRND_PNGA_CN1999  41.053886 -124.150868    78.1854   \n",
      "1044  TSWY  TSWY_EBRY_WY2001  43.674089 -110.597478  2190.7336   \n",
      "1045  TUNG  TUNG_BRGN_NV1996  40.403200 -118.257507  1414.7711   \n",
      "1046  TWHL  TWHL_PNGA_WA2001  47.015905 -122.922877   107.2974   \n",
      "1047  UPSA  UPSA_BRGN_NV1997  39.627111 -118.802282  1233.2896   \n",
      "1048  USGC  USGC_SCGN_CS1998  33.030065 -116.085338   133.4497   \n",
      "1049  USLO  USLO_SCGN_CS2000  35.311806 -120.661097   134.6447   \n",
      "1050  VDCY  VDCY_SCGN_CS2000  34.178567 -118.220004   318.1923   \n",
      "1051  VIMT  VIMT_SCGN_CS2000  34.126449 -118.514417   553.7163   \n",
      "1052  VNCO  VNCO_SCGN_CS2000  34.275767 -119.237674    25.6488   \n",
      "1053  VNCX  VNCX_SCGN_CS1998  34.293194 -118.484544   328.6073   \n",
      "1054  VNDP  VNDP_SCGN_CS1992  34.556314 -120.616455   -11.5028   \n",
      "1055  WGPP  WGPP_SCGN_CS1999  35.010849 -118.983691   352.0121   \n",
      "1056  WIKR  Wicker84K_AK2008  63.552726 -150.922214  1188.7738   \n",
      "1057  WIN2  WIN2_BARD_CN2008  37.652652 -122.140632   -27.6298   \n",
      "1058  WKPK  WKPK_SCGN_CS1999  34.568500 -118.741521  1208.9308   \n",
      "1059  WLWY  WLWY_EBRY_WY1999  44.639517 -110.286657  2643.1554   \n",
      "1060  WMOK  WichitaMtnOK2005  34.737893  -98.780526   467.4080   \n",
      "1061  WOMT  WOMT_SCGN_CS1999  34.669014 -116.931668  1353.0425   \n",
      "\n",
      "                    epoch referenceFrame           start_time  \\\n",
      "0     2017-10-25T00:03:27          IGS08  2007-05-18T04:18:00   \n",
      "1     2017-10-25T00:03:27          IGS08  2007-05-23T00:00:00   \n",
      "2     2017-10-25T00:03:27          IGS08  2007-07-06T21:37:00   \n",
      "3     2017-10-25T00:03:27          IGS08  2005-08-14T01:51:30   \n",
      "4     2017-10-25T00:03:27          IGS08  2004-10-22T23:16:30   \n",
      "5     2017-10-25T00:03:27          IGS08  2009-06-12T00:44:45   \n",
      "6     2017-10-25T00:03:27          IGS08  2007-07-23T00:32:30   \n",
      "7     2017-10-25T00:03:27          IGS08  2006-07-21T02:46:00   \n",
      "8     2017-10-25T00:03:27          IGS08  2007-07-09T02:42:30   \n",
      "9     2017-10-25T00:03:27          IGS08  2006-08-15T02:58:00   \n",
      "10    2017-10-25T00:03:27          IGS08  2007-07-06T03:18:00   \n",
      "11    2017-10-25T00:03:27          IGS08  2006-08-10T22:43:00   \n",
      "12    2017-10-25T00:03:27          IGS08  2008-07-21T22:51:45   \n",
      "13    2017-10-25T00:03:27          IGS08  2007-03-08T00:00:00   \n",
      "14    2017-10-25T00:03:27          IGS08  2006-04-25T20:27:15   \n",
      "15    2017-10-25T00:03:27          IGS08  2006-05-27T03:08:45   \n",
      "16    2017-10-25T00:03:27          IGS08  2008-08-08T23:02:45   \n",
      "17    2017-10-25T00:03:27          IGS08  2007-07-27T01:48:15   \n",
      "18    2017-10-25T00:03:27          IGS08  2006-07-10T00:44:00   \n",
      "19    2017-10-25T00:03:27          IGS08  2006-09-18T01:11:30   \n",
      "20    2017-10-25T00:03:27          IGS08  2007-08-21T21:40:45   \n",
      "21    2017-10-25T00:03:27          IGS08  2006-08-20T23:41:45   \n",
      "22    2017-10-25T00:03:27          IGS08  2004-07-13T05:53:00   \n",
      "23    2017-10-25T00:03:27          IGS08  2008-08-13T23:33:30   \n",
      "24    2017-10-25T00:03:27          IGS08  2006-09-27T00:34:45   \n",
      "25    2017-10-25T00:03:27          IGS08  2006-07-30T03:48:45   \n",
      "26    2017-10-25T00:03:27          IGS08  2007-05-23T00:07:00   \n",
      "27    2017-10-25T00:03:27          IGS08  2005-08-15T01:55:45   \n",
      "28    2017-10-25T00:03:27          IGS08  2007-06-05T00:00:00   \n",
      "29    2017-10-25T00:03:27          IGS08  2007-04-04T17:14:15   \n",
      "...                   ...            ...                  ...   \n",
      "1032  2017-10-25T00:03:27          IGS08  1997-03-26T04:27:30   \n",
      "1033  2017-10-25T00:03:27          IGS08  2000-11-24T00:00:30   \n",
      "1034  2017-10-25T00:03:27          IGS08  2003-02-07T00:00:00   \n",
      "1035  2017-10-25T00:03:27          IGS08  1998-08-20T20:18:30   \n",
      "1036  2017-10-25T00:03:27          IGS08  2000-06-15T01:59:00   \n",
      "1037  2017-10-25T00:03:27          IGS08  2001-09-27T00:00:30   \n",
      "1038  2017-10-25T00:03:27          IGS08  2000-10-26T16:50:30   \n",
      "1039  2017-10-25T00:03:27          IGS08  2003-02-07T00:00:00   \n",
      "1040  2017-10-25T00:03:27          IGS08  1999-03-23T00:00:30   \n",
      "1041  2017-10-25T00:03:27          IGS08  1999-06-17T21:42:00   \n",
      "1042  2017-10-25T00:03:27          IGS08  2000-03-30T18:31:00   \n",
      "1043  2017-10-25T00:03:27          IGS08  1999-11-15T21:38:00   \n",
      "1044  2017-10-25T00:03:27          IGS08  2001-06-08T23:29:00   \n",
      "1045  2017-10-25T00:03:27          IGS08  1996-07-20T19:32:00   \n",
      "1046  2017-10-25T00:03:27          IGS08  2001-03-23T20:04:30   \n",
      "1047  2017-10-25T00:03:27          IGS08  1997-10-30T17:24:00   \n",
      "1048  2017-10-25T00:03:27          IGS08  1999-08-12T20:46:00   \n",
      "1049  2017-10-25T00:03:27          IGS08  2000-10-04T00:00:30   \n",
      "1050  2017-10-25T00:03:27          IGS08  2000-11-10T00:00:30   \n",
      "1051  2017-10-25T00:03:27          IGS08  2000-07-12T00:00:30   \n",
      "1052  2017-10-25T00:03:27          IGS08  2000-11-20T05:54:00   \n",
      "1053  2017-10-25T00:03:27          IGS08  1998-12-30T00:00:30   \n",
      "1054  2017-10-25T00:03:27          IGS08  1995-01-01T00:00:30   \n",
      "1055  2017-10-25T00:03:27          IGS08  1999-11-11T00:02:00   \n",
      "1056  2017-10-25T00:03:27          IGS08  2008-08-21T00:00:00   \n",
      "1057  2017-10-25T00:03:27          IGS08  2008-07-16T23:19:30   \n",
      "1058  2017-10-25T00:03:27          IGS08  1999-10-07T00:00:30   \n",
      "1059  2017-10-25T00:03:27          IGS08  2001-07-01T10:00:30   \n",
      "1060  2017-10-25T00:03:27          IGS08  2005-11-03T00:00:00   \n",
      "1061  2017-10-25T00:03:27          IGS08  1999-09-03T00:00:30   \n",
      "\n",
      "                stop_time  \n",
      "0     2017-11-20T23:59:45  \n",
      "1     2017-11-08T23:59:45  \n",
      "2     2017-11-18T23:59:45  \n",
      "3     2017-11-20T23:59:45  \n",
      "4     2017-11-20T23:59:45  \n",
      "5     2017-11-20T23:59:45  \n",
      "6     2017-11-20T23:59:45  \n",
      "7     2017-11-20T23:59:45  \n",
      "8     2017-11-20T23:59:45  \n",
      "9     2017-11-20T23:59:45  \n",
      "10    2017-11-20T23:59:45  \n",
      "11    2017-11-20T23:59:45  \n",
      "12    2017-11-20T23:59:45  \n",
      "13    2017-11-20T23:59:45  \n",
      "14    2017-11-19T23:59:45  \n",
      "15    2017-11-20T23:59:45  \n",
      "16    2017-11-20T23:59:45  \n",
      "17    2017-11-20T23:59:45  \n",
      "18    2017-11-20T23:59:45  \n",
      "19    2017-11-20T23:59:45  \n",
      "20    2017-11-20T23:59:45  \n",
      "21    2017-11-20T23:59:45  \n",
      "22    2017-11-20T23:59:45  \n",
      "23    2017-11-20T23:59:45  \n",
      "24    2017-11-20T23:59:45  \n",
      "25    2017-11-20T23:59:45  \n",
      "26    2017-11-20T23:59:45  \n",
      "27    2017-11-20T23:59:45  \n",
      "28    2017-11-20T23:59:45  \n",
      "29    2017-11-20T23:59:45  \n",
      "...                   ...  \n",
      "1032  2017-11-20T23:59:45  \n",
      "1033  2017-11-20T23:59:45  \n",
      "1034  2017-11-20T23:59:45  \n",
      "1035  2017-11-20T23:59:45  \n",
      "1036  2017-11-20T23:59:45  \n",
      "1037  2017-11-20T23:59:45  \n",
      "1038  2017-11-20T23:59:45  \n",
      "1039  2017-11-20T23:59:45  \n",
      "1040  2017-11-20T23:59:45  \n",
      "1041  2017-11-20T23:59:45  \n",
      "1042  2017-11-20T23:59:45  \n",
      "1043  2017-11-20T23:59:45  \n",
      "1044  2017-11-20T23:59:45  \n",
      "1045  2017-11-20T23:59:45  \n",
      "1046  2017-11-20T23:59:45  \n",
      "1047  2017-11-17T23:59:45  \n",
      "1048  2017-11-20T23:59:45  \n",
      "1049  2017-11-20T23:59:45  \n",
      "1050  2017-11-20T23:59:45  \n",
      "1051  2017-11-20T23:59:45  \n",
      "1052  2017-11-20T23:59:45  \n",
      "1053  2017-11-20T23:59:45  \n",
      "1054  2017-11-20T23:59:45  \n",
      "1055  2017-11-20T23:59:45  \n",
      "1056  2017-11-20T23:59:45  \n",
      "1057  2017-11-20T23:59:45  \n",
      "1058  2017-11-20T23:59:45  \n",
      "1059  2017-11-20T23:59:45  \n",
      "1060  2017-11-20T23:59:45  \n",
      "1061  2017-11-20T23:59:45  \n",
      "\n",
      "[1062 rows x 9 columns]\n"
     ]
    }
   ],
   "source": [
    "print(merged_df)"
   ]
  },
  {
   "cell_type": "code",
   "execution_count": null,
   "metadata": {
    "collapsed": true
   },
   "outputs": [],
   "source": []
  }
 ],
 "metadata": {
  "kernelspec": {
   "display_name": "Python 3",
   "language": "python",
   "name": "python3"
  },
  "language_info": {
   "codemirror_mode": {
    "name": "ipython",
    "version": 3
   },
   "file_extension": ".py",
   "mimetype": "text/x-python",
   "name": "python",
   "nbconvert_exporter": "python",
   "pygments_lexer": "ipython3",
   "version": "3.4.3"
  }
 },
 "nbformat": 4,
 "nbformat_minor": 2
}
