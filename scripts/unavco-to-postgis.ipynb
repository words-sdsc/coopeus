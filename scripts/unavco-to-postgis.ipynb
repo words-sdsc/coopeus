{
 "cells": [
  {
   "cell_type": "code",
   "execution_count": 1,
   "metadata": {
    "collapsed": false
   },
   "outputs": [],
   "source": [
    "import io\n",
    "import json\n",
    "import pandas\n",
    "from postgis import Point\n",
    "from postgis.psycopg import register\n",
    "import psycopg2\n",
    "import requests"
   ]
  },
  {
   "cell_type": "code",
   "execution_count": 2,
   "metadata": {
    "collapsed": false
   },
   "outputs": [],
   "source": [
    "# NOTE: this service is not needed.\n",
    "\n",
    "#r = requests.get('http://web-services.unavco.org/internalWS/gps/metadata/stationcoordinate/sites/beta?project=PBO&refframe=igs08&verboseheader=true&stddev=false')\n",
    "\n",
    "# set engine to python for regex separator\n",
    "#df = pandas.read_csv(io.StringIO(r.text), skiprows=6, header=None, names=['id', 'stationName', 'lat', 'lon',\n",
    "#       'elev', 'epoch', 'referenceFrame'], sep='\\s*,\\s*', engine='python')\n",
    "#print(len(['data']))"
   ]
  },
  {
   "cell_type": "code",
   "execution_count": 3,
   "metadata": {
    "collapsed": false
   },
   "outputs": [],
   "source": [
    "r2 = requests.get('http://www.unavco.org/gsacws/gsacapi/site/search?output=site.csv&site.group=PBO+Analysis+Complete&site.sortorder=ascending&limit=99999')\n",
    "df2 = pandas.read_csv(io.StringIO(r2.text), skiprows=1, header=None,\n",
    "  names=['id', 'stationName', 'lat', 'lon', 'elev', 'startTime', 'stopTime'],sep='\\s*,\\s*', engine='python')\n",
    "#df2 = df2.drop(['lat', 'lon', 'elev'], axis=1)"
   ]
  },
  {
   "cell_type": "code",
   "execution_count": 4,
   "metadata": {
    "collapsed": false
   },
   "outputs": [
    {
     "name": "stdout",
     "output_type": "stream",
     "text": [
      "Index(['id', 'stationName', 'lat', 'lon', 'elev', 'startTime', 'stopTime'], dtype='object')\n"
     ]
    }
   ],
   "source": [
    "#merged_df = pandas.merge(df, df2, on=['id', 'stationName'])\n",
    "#print(merged_df.columns)\n",
    "merged_df = df2\n",
    "print(merged_df.columns)"
   ]
  },
  {
   "cell_type": "code",
   "execution_count": 10,
   "metadata": {
    "collapsed": false
   },
   "outputs": [],
   "source": [
    "if merged_df.size > 0:\n",
    "    connection = psycopg2.connect(\"dbname=geoserver user=etlfires\")  \n",
    "    register(connection)\n",
    "    cursor = connection.cursor()\n",
    "    cursor.execute(\"DELETE FROM {}\".format('unavco_sites'))\n",
    "\n",
    "    for idx, row in merged_df.iterrows():\n",
    "        #print(site['siteLongitude'])\n",
    "        #print(row)\n",
    "        cursor.execute(\"\"\"\n",
    "INSERT INTO unavco_sites (id, stationName, startTime, stopTime, geom)\n",
    "VALUES (%s, %s, %s, %s, %s)\"\"\",\n",
    "            [row['id'], row['stationName'], \n",
    "            row['startTime'] + 'Z', row['stopTime'] + 'Z',\n",
    "            Point(x=row['lon'], y=row['lat'], z=row['elev'], srid=4326)])\n",
    "        \n",
    "#INSERT INTO unavco_sites (id, stationName, epoch, referenceFrame, startTime, stopTime, geom)\n",
    "#VALUES (%s, %s, %s, %s, %s, %s, %s)\"\"\",\n",
    "#            [row['id'], row['stationName'], row['epoch'] + 'Z', row['referenceFrame'],\n",
    "#            row['startTime'] + 'Z', row['stopTime'] + 'Z',\n",
    "#            Point(x=row['lon'], y=row['lat'], z=row['elev'], srid=4326)])\n",
    "\n",
    "        \n",
    "    connection.commit()\n",
    "    connection.close()"
   ]
  },
  {
   "cell_type": "code",
   "execution_count": null,
   "metadata": {
    "collapsed": false
   },
   "outputs": [],
   "source": [
    "#list(d['data'][0].keys())"
   ]
  },
  {
   "cell_type": "code",
   "execution_count": null,
   "metadata": {
    "collapsed": false
   },
   "outputs": [],
   "source": [
    "#for i in range(0, len(d['data'])):\n",
    "#    print('{} {} {}'.format(d['data'][i]['d['data'][i]['siteLatitude'], d['data'][i]['siteLongitude']))"
   ]
  },
  {
   "cell_type": "code",
   "execution_count": null,
   "metadata": {
    "collapsed": false
   },
   "outputs": [],
   "source": [
    "#d['data'][0]"
   ]
  },
  {
   "cell_type": "code",
   "execution_count": null,
   "metadata": {
    "collapsed": false
   },
   "outputs": [],
   "source": [
    "#type(d)"
   ]
  },
  {
   "cell_type": "code",
   "execution_count": null,
   "metadata": {
    "collapsed": false
   },
   "outputs": [],
   "source": [
    "#df.columns"
   ]
  },
  {
   "cell_type": "code",
   "execution_count": null,
   "metadata": {
    "collapsed": false
   },
   "outputs": [],
   "source": [
    "#for idx, row in df.iterrows():\n",
    "#    print(row['ID'])"
   ]
  },
  {
   "cell_type": "code",
   "execution_count": null,
   "metadata": {
    "collapsed": false
   },
   "outputs": [],
   "source": []
  },
  {
   "cell_type": "code",
   "execution_count": null,
   "metadata": {
    "collapsed": false
   },
   "outputs": [],
   "source": [
    "print(df.columns)\n",
    "print(df2.columns)"
   ]
  },
  {
   "cell_type": "code",
   "execution_count": null,
   "metadata": {
    "collapsed": false
   },
   "outputs": [],
   "source": [
    "print(df[df['id'] == 'AB18'])\n",
    "print(df2[df2['id'] == 'AB18'])"
   ]
  },
  {
   "cell_type": "code",
   "execution_count": null,
   "metadata": {
    "collapsed": true
   },
   "outputs": [],
   "source": [
    "merged_df = pandas.merge(df, df2, on=['id', 'stationName'])"
   ]
  },
  {
   "cell_type": "code",
   "execution_count": null,
   "metadata": {
    "collapsed": false
   },
   "outputs": [],
   "source": [
    "merged_df.columns"
   ]
  },
  {
   "cell_type": "code",
   "execution_count": null,
   "metadata": {
    "collapsed": false
   },
   "outputs": [],
   "source": [
    "print(merged_df)"
   ]
  },
  {
   "cell_type": "code",
   "execution_count": null,
   "metadata": {
    "collapsed": true
   },
   "outputs": [],
   "source": []
  }
 ],
 "metadata": {
  "kernelspec": {
   "display_name": "Python 3",
   "language": "python",
   "name": "python3"
  },
  "language_info": {
   "codemirror_mode": {
    "name": "ipython",
    "version": 3
   },
   "file_extension": ".py",
   "mimetype": "text/x-python",
   "name": "python",
   "nbconvert_exporter": "python",
   "pygments_lexer": "ipython3",
   "version": "3.4.3"
  }
 },
 "nbformat": 4,
 "nbformat_minor": 2
}
