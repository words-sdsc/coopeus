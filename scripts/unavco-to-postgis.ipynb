{
 "cells": [
  {
   "cell_type": "code",
   "execution_count": 1,
   "metadata": {
    "collapsed": false
   },
   "outputs": [],
   "source": [
    "import io\n",
    "import json\n",
    "import pandas\n",
    "from postgis import Point\n",
    "from postgis.psycopg import register\n",
    "import psycopg2\n",
    "import requests"
   ]
  },
  {
   "cell_type": "code",
   "execution_count": 4,
   "metadata": {
    "collapsed": false
   },
   "outputs": [],
   "source": [
    "r = requests.get('http://web-services.unavco.org/internalWS/gps/metadata/stationcoordinate/sites/beta?project=PBO&refframe=igs08&verboseheader=true&stddev=false')\n",
    "\n",
    "# set engine to python for regex separator\n",
    "df = pandas.read_csv(io.StringIO(r.text), skiprows=5, sep='\\s*,\\s*', engine='python')\n",
    "#print(len(['data']))"
   ]
  },
  {
   "cell_type": "code",
   "execution_count": 3,
   "metadata": {
    "collapsed": false
   },
   "outputs": [],
   "source": [
    "if df.size > 0:\n",
    "    connection = psycopg2.connect(\"dbname=geoserver user=etlfires\")  \n",
    "    register(connection)\n",
    "    cursor = connection.cursor()\n",
    "    cursor.execute(\"DELETE FROM {}\".format('unavco_sites'))\n",
    "\n",
    "    for idx, row in df.iterrows():\n",
    "        #print(site['siteLongitude'])\n",
    "        cursor.execute(\"\"\"\n",
    "INSERT INTO unavco_sites (id, stationName, epoch, referenceFrame, geom)\n",
    "VALUES (%s, %s, %s, %s, %s)\"\"\", \n",
    "            [row['# ID'], row['Station Name'], row['Epoch'], row['Reference Frame'],\n",
    "            Point(x=row['Longitude (deg)'], y=row['Latitude (deg)'], z=row['Ellipsoidal Elevation (m)'], srid=4326)])\n",
    "        \n",
    "    connection.commit()\n",
    "    connection.close()"
   ]
  },
  {
   "cell_type": "code",
   "execution_count": null,
   "metadata": {
    "collapsed": false
   },
   "outputs": [],
   "source": [
    "#list(d['data'][0].keys())"
   ]
  },
  {
   "cell_type": "code",
   "execution_count": null,
   "metadata": {
    "collapsed": false
   },
   "outputs": [],
   "source": [
    "#for i in range(0, len(d['data'])):\n",
    "#    print('{} {} {}'.format(d['data'][i]['d['data'][i]['siteLatitude'], d['data'][i]['siteLongitude']))"
   ]
  },
  {
   "cell_type": "code",
   "execution_count": null,
   "metadata": {
    "collapsed": false
   },
   "outputs": [],
   "source": [
    "#d['data'][0]"
   ]
  },
  {
   "cell_type": "code",
   "execution_count": null,
   "metadata": {
    "collapsed": false
   },
   "outputs": [],
   "source": [
    "#type(d)"
   ]
  },
  {
   "cell_type": "code",
   "execution_count": null,
   "metadata": {
    "collapsed": false
   },
   "outputs": [],
   "source": [
    "#df.columns"
   ]
  },
  {
   "cell_type": "code",
   "execution_count": null,
   "metadata": {
    "collapsed": false
   },
   "outputs": [],
   "source": [
    "#for idx, row in df.iterrows():\n",
    "#    print(row['ID'])"
   ]
  },
  {
   "cell_type": "code",
   "execution_count": null,
   "metadata": {
    "collapsed": true
   },
   "outputs": [],
   "source": []
  }
 ],
 "metadata": {
  "kernelspec": {
   "display_name": "Python 3",
   "language": "python",
   "name": "python3"
  },
  "language_info": {
   "codemirror_mode": {
    "name": "ipython",
    "version": 3
   },
   "file_extension": ".py",
   "mimetype": "text/x-python",
   "name": "python",
   "nbconvert_exporter": "python",
   "pygments_lexer": "ipython3",
   "version": "3.4.3"
  }
 },
 "nbformat": 4,
 "nbformat_minor": 2
}
